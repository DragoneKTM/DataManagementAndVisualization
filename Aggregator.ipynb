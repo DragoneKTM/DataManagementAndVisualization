{
 "cells": [
  {
   "cell_type": "code",
   "execution_count": 1,
   "metadata": {},
   "outputs": [],
   "source": [
    "import re\n",
    "from datetime import datetime\n",
    "from datetime import timedelta\n",
    "from pymongo import MongoClient \n",
    "from textblob import TextBlob"
   ]
  },
  {
   "cell_type": "code",
   "execution_count": 2,
   "metadata": {},
   "outputs": [],
   "source": [
    "# Funzione per filtrare gli hashtag, mantendendo così solo quelli contenenti testo e numeri\n",
    "def filterHashtag(text):\n",
    "    return re.match(r\"(([a-zA-Z]+\\d+)+)\", text)"
   ]
  },
  {
   "cell_type": "code",
   "execution_count": 3,
   "metadata": {},
   "outputs": [],
   "source": [
    "# Funzione per la pulizia del testo dei tweet, così da renderli analizzabili dalla libreria TextBlob per la sentiment analysis\n",
    "def clean_tweet(tweet):\n",
    "        return ' '.join(re.sub(\"(@[A-Za-z0-9]+)|([^0-9A-Za-z \\t])|(\\w+:\\/\\/\\S+)\", \" \", tweet).split())"
   ]
  },
  {
   "cell_type": "code",
   "execution_count": 4,
   "metadata": {},
   "outputs": [],
   "source": [
    "# Connessione al database MongoDB\n",
    "myclient = MongoClient(\"mongodb://localhost:27017/\") \n",
    "db = myclient[\"ProgettoData\"]\n",
    "tweetCol = db[\"Twitter\"]\n",
    "coinDataCol = db[\"Coingecko\"]\n",
    "coinTweetDataCol = db[\"CoinTweetData\"]"
   ]
  },
  {
   "cell_type": "code",
   "execution_count": 5,
   "metadata": {},
   "outputs": [
    {
     "name": "stderr",
     "output_type": "stream",
     "text": [
      "<ipython-input-5-ed651d08a84c>:15: DeprecationWarning: count is deprecated. Use Collection.count_documents instead.\n",
      "  price, marketCap, volume, numTweetTot, numTweet, numRetweet, text, posTweets, negTweets, neutTweets = 0, 0, 0, tweetData.count(), 0, 0, [], 0, 0, 0\n",
      "<ipython-input-5-ed651d08a84c>:17: DeprecationWarning: count is deprecated. Use Collection.count_documents instead.\n",
      "  if coinData.count() != 0:\n",
      "<ipython-input-5-ed651d08a84c>:22: DeprecationWarning: count is deprecated. Use Collection.count_documents instead.\n",
      "  price /= coinData.count()\n",
      "<ipython-input-5-ed651d08a84c>:23: DeprecationWarning: count is deprecated. Use Collection.count_documents instead.\n",
      "  marketCap /= coinData.count()\n",
      "<ipython-input-5-ed651d08a84c>:24: DeprecationWarning: count is deprecated. Use Collection.count_documents instead.\n",
      "  volume /= coinData.count()\n"
     ]
    },
    {
     "data": {
      "text/plain": [
       "<pymongo.results.InsertOneResult at 0x1a2ee82e580>"
      ]
     },
     "execution_count": 5,
     "metadata": {},
     "output_type": "execute_result"
    }
   ],
   "source": [
    "# Variabile per specificare di quanti giorni andare indietro per effettuare l'integrazione dei dati (es. 1 = ieri)\n",
    "backDays = 1\n",
    "startDate = datetime.timestamp((datetime.now()- timedelta(backDays)).replace(hour=0, minute=0, second=0, microsecond=0))\n",
    "endDate = datetime.timestamp((datetime.now()- timedelta(backDays)).replace(hour=23, minute=59, second=59, microsecond=0))\n",
    "\n",
    "loopDate = startDate\n",
    "\n",
    "# Time slice da 5 minuti\n",
    "minutesAgg = 5*60\n",
    "        \n",
    "doc = {\"day\": datetime.fromtimestamp(startDate), \"data\": []}\n",
    "        \n",
    "while loopDate < endDate:\n",
    "    loopDate = loopDate + minutesAgg\n",
    "    coinData = coinDataCol.find({\"dogecoin.last_updated_at\": {\"$lt\": loopDate, \"$gte\": (loopDate - minutesAgg)}})\n",
    "    tweetData = tweetCol.find({\"timestamp_ms\": {\"$lt\": (loopDate*1000), \"$gte\": ((loopDate - minutesAgg)*1000)}})\n",
    "    \n",
    "    price, marketCap, volume, numTweetTot, numTweet, numRetweet, text, posTweets, negTweets, neutTweets = 0, 0, 0, tweetData.count(), 0, 0, [], 0, 0, 0\n",
    "    \n",
    "    if coinData.count() != 0:\n",
    "        for x in coinData:\n",
    "            price += x[\"dogecoin\"][\"eur\"]\n",
    "            marketCap += x[\"dogecoin\"][\"eur_market_cap\"]\n",
    "            volume += x[\"dogecoin\"][\"eur_24h_vol\"]\n",
    "        price /= coinData.count()\n",
    "        marketCap /= coinData.count()\n",
    "        volume /= coinData.count()\n",
    "    \n",
    "    if numTweetTot != 0:\n",
    "        for x in tweetData:\n",
    "            if x[\"is_retweet\"]:\n",
    "                numRetweet += 1\n",
    "            else:\n",
    "                numTweet += 1\n",
    "            if \"hashtags\" in x:\n",
    "                for hashtag in x[\"hashtags\"]:\n",
    "                    if filterHashtag(hashtag):\n",
    "                        text.append(hashtag)\n",
    "            # sentiment analysis\n",
    "            analysis = TextBlob(clean_tweet(x[\"text\"]))\n",
    "            if analysis.sentiment.polarity > 0:\n",
    "                posTweets += 1\n",
    "            else:\n",
    "                if analysis.sentiment.polarity == 0:\n",
    "                    neutTweets += 1\n",
    "                else:\n",
    "                    negTweets += 1\n",
    "    \n",
    "    timesliceData = {\"date\": datetime.fromtimestamp(loopDate), \"price\": price, \"market_cap\": marketCap, \"volume\": volume, \"number_of_tweet_tot\": numTweetTot, \"number_of_tweet\": numTweet, \"number_of_retweet\": numRetweet, \"hashtags\": text, \"posTweets\": posTweets, \"negTweets\": negTweets, \"neutTweets\": neutTweets}\n",
    "    doc[\"data\"].append(timesliceData)\n",
    "\n",
    "coinTweetDataCol.insert_one(doc)    "
   ]
  }
 ],
 "metadata": {
  "kernelspec": {
   "display_name": "Python 3",
   "language": "python",
   "name": "python3"
  },
  "language_info": {
   "codemirror_mode": {
    "name": "ipython",
    "version": 3
   },
   "file_extension": ".py",
   "mimetype": "text/x-python",
   "name": "python",
   "nbconvert_exporter": "python",
   "pygments_lexer": "ipython3",
   "version": "3.8.5"
  }
 },
 "nbformat": 4,
 "nbformat_minor": 4
}
