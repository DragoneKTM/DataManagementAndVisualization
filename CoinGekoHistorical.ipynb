{
 "cells": [
  {
   "cell_type": "code",
   "execution_count": 15,
   "metadata": {},
   "outputs": [],
   "source": [
    "import json\n",
    "from datetime import datetime\n",
    "from datetime import date\n",
    "from pycoingecko import CoinGeckoAPI\n",
    "import pandas as pd"
   ]
  },
  {
   "cell_type": "code",
   "execution_count": 61,
   "metadata": {},
   "outputs": [],
   "source": [
    "today = date.today()\n",
    "#retrieving price from 2020/06/01 till now\n",
    "days = pd.date_range(start=\"2021-05-27\",end=today.strftime(\"%Y-%m-%d\"))"
   ]
  },
  {
   "cell_type": "code",
   "execution_count": 63,
   "metadata": {},
   "outputs": [],
   "source": [
    "cg = CoinGeckoAPI()\n",
    "dogePrice = []\n",
    "for day in days:\n",
    "    day = day.strftime(\"%d-%m-%Y\")\n",
    "    price = cg.get_coin_history_by_id(id='dogecoin',date=day, localization='false')\n",
    "    for e in [\"_id\", \"symbol\", \"name\", \"image\", \"developer_data\", \"commit_count_4_weeks\", \"public_interest_stats\"]:\n",
    "        price.pop(e, None)\n",
    "    price[\"Date\"] = datetime.strptime(day, \"%d-%m-%Y\")\n",
    "    dogePrice.append(price)"
   ]
  },
  {
   "cell_type": "code",
   "execution_count": 64,
   "metadata": {},
   "outputs": [],
   "source": [
    "for i in range(len(dogePrice)):\n",
    "    dogePrice[i][\"variation_next24h\"] = 0\n",
    "    if(i<len(dogePrice)-1):\n",
    "        B = dogePrice[i+1][\"market_data\"][\"current_price\"][\"usd\"]\n",
    "        A = dogePrice[i][\"market_data\"][\"current_price\"][\"usd\"]\n",
    "        dogePrice[i][\"variation_next24h\"] =  ((B - A)/A )* 100"
   ]
  },
  {
   "cell_type": "code",
   "execution_count": 65,
   "metadata": {},
   "outputs": [],
   "source": [
    "from pymongo import MongoClient \n",
    "myclient = MongoClient(\"mongodb://localhost:27017/\") \n",
    "db = myclient[\"DataMan\"]\n",
    "Collection = db[\"DogeHistorical\"]\n",
    "if isinstance(dogePrice, list):\n",
    "    Collection.insert_many(dogePrice)  \n",
    "else:\n",
    "    Collection.insert_one(dogePrice)\n",
    "myclient.close()"
   ]
  },
  {
   "cell_type": "code",
   "execution_count": null,
   "metadata": {},
   "outputs": [],
   "source": []
  }
 ],
 "metadata": {
  "kernelspec": {
   "display_name": "Python 3",
   "language": "python",
   "name": "python3"
  },
  "language_info": {
   "codemirror_mode": {
    "name": "ipython",
    "version": 3
   },
   "file_extension": ".py",
   "mimetype": "text/x-python",
   "name": "python",
   "nbconvert_exporter": "python",
   "pygments_lexer": "ipython3",
   "version": "3.8.3"
  }
 },
 "nbformat": 4,
 "nbformat_minor": 4
}
