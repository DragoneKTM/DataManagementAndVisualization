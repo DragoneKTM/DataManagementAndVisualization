{
 "cells": [
  {
   "cell_type": "code",
   "execution_count": 22,
   "metadata": {},
   "outputs": [],
   "source": [
    "import json\n",
    "from datetime import datetime, date"
   ]
  },
  {
   "cell_type": "code",
   "execution_count": 23,
   "metadata": {},
   "outputs": [],
   "source": [
    "j = open('user-tweets.json')"
   ]
  },
  {
   "cell_type": "code",
   "execution_count": 24,
   "metadata": {},
   "outputs": [],
   "source": [
    "tweetsElon = []\n",
    "for line in j:\n",
    "    tweetsElon.append(json.loads(line))"
   ]
  },
  {
   "cell_type": "code",
   "execution_count": 25,
   "metadata": {},
   "outputs": [],
   "source": [
    "from pymongo import MongoClient \n",
    "myclient = MongoClient(\"mongodb://localhost:27017/\") \n",
    "db = myclient[\"DataMan\"]\n",
    "Collection = db[\"ElonTweets\"]"
   ]
  },
  {
   "cell_type": "code",
   "execution_count": 26,
   "metadata": {},
   "outputs": [],
   "source": [
    "for row in tweetsElon:\n",
    "    row.pop(\"UserName\", None)\n",
    "    row.pop(\"LinkToTweet\", None)\n",
    "    row.pop(\"TweetEmbedCode\", None)\n",
    "    datetimeStr = datetime.strptime(row[\"CreatedAt\"], '%B %d, %Y at %I:%M%p')\n",
    "    row[\"Date\"] = datetimeStr\n",
    "    row[\"Day\"] = datetime(datetimeStr.year, datetimeStr.month, datetimeStr.day)\n",
    "    row.pop(\"CreatedAt\", None)"
   ]
  },
  {
   "cell_type": "code",
   "execution_count": 27,
   "metadata": {},
   "outputs": [],
   "source": [
    "#keep only tweets after startDay\n",
    "startDay = datetime(2020, 6, 1)\n",
    "tweetsElon = [x for x in tweetsElon if (startDay - x[\"Date\"]).days < 0]\n",
    "tweetsElon = [x for x in tweetsElon if \"doge\" in x[\"Text\"] or \"Doge\" in x[\"Text\"]]"
   ]
  },
  {
   "cell_type": "code",
   "execution_count": 28,
   "metadata": {},
   "outputs": [],
   "source": [
    "if isinstance(tweetsElon, list):\n",
    "    Collection.insert_many(tweetsElon)  \n",
    "else:\n",
    "    Collection.insert_one(tweetsElon)\n",
    "myclient.close()"
   ]
  },
  {
   "cell_type": "code",
   "execution_count": null,
   "metadata": {},
   "outputs": [],
   "source": []
  }
 ],
 "metadata": {
  "kernelspec": {
   "display_name": "Python 3",
   "language": "python",
   "name": "python3"
  },
  "language_info": {
   "codemirror_mode": {
    "name": "ipython",
    "version": 3
   },
   "file_extension": ".py",
   "mimetype": "text/x-python",
   "name": "python",
   "nbconvert_exporter": "python",
   "pygments_lexer": "ipython3",
   "version": "3.8.3"
  }
 },
 "nbformat": 4,
 "nbformat_minor": 4
}
